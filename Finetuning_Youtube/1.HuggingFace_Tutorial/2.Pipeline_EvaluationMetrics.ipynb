{
 "cells": [
  {
   "cell_type": "markdown",
   "id": "315309f4",
   "metadata": {},
   "source": [
    "## sentence transformer library: https://huggingface.co/sentence-transformers"
   ]
  },
  {
   "cell_type": "code",
   "execution_count": 1,
   "id": "5bf19ce8",
   "metadata": {},
   "outputs": [],
   "source": [
    "! pip install -U sentence-transformers -q"
   ]
  },
  {
   "cell_type": "code",
   "execution_count": 2,
   "id": "6dba5a4f",
   "metadata": {},
   "outputs": [],
   "source": [
    "from sentence_transformers import SentenceTransformer\n",
    "from torch.nn.functional import cosine_similarity"
   ]
  },
  {
   "cell_type": "code",
   "execution_count": 3,
   "id": "8f0af4f9",
   "metadata": {},
   "outputs": [],
   "source": [
    "# Load a sentence embedding model (trained for similarity tasks)\n",
    "model = SentenceTransformer(\"all-MiniLM-L6-v2\")"
   ]
  },
  {
   "cell_type": "code",
   "execution_count": 4,
   "id": "53742ff7",
   "metadata": {},
   "outputs": [
    {
     "name": "stderr",
     "output_type": "stream",
     "text": [
      "c:\\MY_Folder\\Git_FineTuning_Folder\\FineTuning_Files\\finetune_env\\lib\\site-packages\\torch\\nn\\modules\\module.py:1762: FutureWarning: `encoder_attention_mask` is deprecated and will be removed in version 4.55.0 for `BertSdpaSelfAttention.forward`.\n",
      "  return forward_call(*args, **kwargs)\n"
     ]
    }
   ],
   "source": [
    "sentence1 = \"Hello, how are you?\"\n",
    "sentence2 = \"Hi, how do you do?\"\n",
    "\n",
    "# Step 1: Encode both sentences into embeddings\n",
    "embedding1 = model.encode(sentence1, convert_to_tensor=True)"
   ]
  },
  {
   "cell_type": "code",
   "execution_count": 5,
   "id": "089db72d",
   "metadata": {},
   "outputs": [
    {
     "data": {
      "text/plain": [
       "tensor([ 1.9097e-02,  3.4465e-02,  9.1628e-02,  7.0165e-02, -2.9947e-02,\n",
       "        -8.4191e-02,  4.5814e-02,  4.9586e-03, -9.1893e-02,  1.7401e-02,\n",
       "        -8.8162e-03, -6.6146e-04, -2.8557e-02, -2.1950e-02,  5.5167e-02,\n",
       "        -4.9837e-02,  8.9881e-02, -8.8957e-02, -1.1236e-01,  3.9001e-02,\n",
       "        -6.6071e-02,  2.6095e-02,  3.6531e-02,  6.1390e-02, -5.7125e-02,\n",
       "        -5.4639e-02,  3.0366e-02,  3.2388e-02,  1.2645e-02, -1.0569e-01,\n",
       "        -5.8346e-02,  6.7329e-02, -4.0756e-02,  6.4398e-03,  5.6987e-03,\n",
       "         5.2853e-02, -3.9775e-02, -1.1855e-01,  2.1162e-03, -1.6693e-02,\n",
       "         2.8338e-02, -3.7438e-02, -2.1371e-02, -4.1475e-02,  8.4972e-02,\n",
       "        -6.8694e-02,  2.4652e-02,  7.1668e-02,  1.0130e-01,  4.6516e-03,\n",
       "        -1.0044e-01, -3.4094e-02, -4.0176e-02,  3.6907e-02,  6.0806e-02,\n",
       "         4.1485e-02, -6.4642e-02,  4.0751e-03,  6.7232e-02, -9.0082e-03,\n",
       "         2.8548e-02,  3.9759e-02, -8.3564e-02,  7.8186e-02,  4.7506e-02,\n",
       "        -3.4571e-02, -7.5742e-02, -5.4552e-02, -3.2886e-02, -4.3589e-02,\n",
       "        -3.0138e-02, -2.8701e-02,  2.1014e-02,  3.1350e-02, -3.5071e-02,\n",
       "        -8.1141e-02,  1.5103e-02, -5.0557e-02,  4.1847e-02,  1.8704e-02,\n",
       "         7.1686e-02, -8.7239e-02,  4.2744e-03,  3.5633e-02, -3.6720e-02,\n",
       "        -4.0951e-02,  5.4294e-02,  7.1731e-02, -5.8520e-03,  3.6166e-03,\n",
       "        -7.7666e-02,  9.1076e-02,  8.5050e-03,  1.1655e-02,  1.6472e-02,\n",
       "        -1.3715e-02,  1.1915e-01, -1.7316e-02, -8.0715e-02,  1.5162e-01,\n",
       "         4.2252e-02,  1.0792e-01,  3.0310e-02, -4.5342e-02,  1.2670e-03,\n",
       "         3.0993e-02, -9.4811e-02,  5.5456e-02, -4.0112e-02, -5.3480e-02,\n",
       "         1.3490e-02, -4.7422e-02, -4.0574e-02, -1.5344e-03,  8.1123e-02,\n",
       "        -1.0531e-02,  1.3359e-02,  6.1236e-02,  3.5578e-02,  2.4189e-02,\n",
       "         2.7593e-02,  2.2383e-02,  1.7850e-02,  3.1314e-02, -2.8899e-02,\n",
       "         6.5788e-02,  5.9350e-02, -6.7993e-33,  1.2272e-01, -2.1340e-02,\n",
       "         5.2960e-02,  1.5373e-01, -7.5833e-02, -9.7541e-03, -2.9927e-02,\n",
       "        -5.3243e-02,  6.3526e-02, -6.7475e-03,  4.1695e-02,  1.5832e-02,\n",
       "        -1.0370e-02,  1.5846e-02, -1.2914e-02,  6.9259e-03, -3.6698e-02,\n",
       "         8.2476e-03, -1.2458e-02,  1.2813e-01, -5.8896e-02, -5.5159e-02,\n",
       "        -3.5296e-02,  4.0281e-02,  7.2437e-02, -9.6573e-03, -1.5444e-02,\n",
       "        -8.0168e-02,  9.7027e-03,  1.3279e-03, -4.0446e-02, -1.6516e-03,\n",
       "         4.0550e-02, -2.7146e-02,  3.9447e-02, -2.3696e-03, -1.1230e-02,\n",
       "         9.2056e-03, -4.4430e-03,  9.5106e-03, -8.0081e-03,  3.2975e-02,\n",
       "         1.0026e-01, -2.7185e-02, -1.4295e-02, -4.4160e-02, -2.3115e-02,\n",
       "         3.2593e-02, -3.0741e-02, -3.3715e-02, -8.7357e-02, -5.8182e-03,\n",
       "        -8.1987e-02,  5.6642e-02, -3.7461e-02, -4.0939e-02, -1.6356e-02,\n",
       "        -2.4529e-02,  2.9280e-02,  6.5653e-02,  3.1189e-02,  1.1280e-01,\n",
       "        -8.0183e-03, -5.9588e-02, -1.0260e-01, -5.7140e-02, -3.1245e-02,\n",
       "        -2.1666e-02,  9.9184e-02, -8.1186e-02,  3.3077e-02, -4.0539e-02,\n",
       "         2.2336e-02,  5.4515e-02,  9.5649e-03,  4.5981e-02, -3.5043e-02,\n",
       "        -4.0334e-02, -1.2592e-02, -7.0683e-02,  1.8435e-02,  1.1094e-01,\n",
       "        -3.6357e-02, -3.0599e-03,  9.8549e-03, -1.0397e-03, -2.7692e-02,\n",
       "        -9.0401e-02, -6.2286e-03,  2.7661e-02, -3.1991e-02,  4.6201e-02,\n",
       "         2.7025e-02, -2.2198e-02, -7.9355e-02,  4.4642e-33,  1.2661e-01,\n",
       "         1.5304e-02, -6.5191e-02, -4.2996e-02, -9.0090e-02, -3.8923e-02,\n",
       "        -4.0735e-02,  8.4058e-02, -7.2927e-02,  1.5314e-02,  6.8378e-02,\n",
       "         1.6768e-02,  4.2669e-02,  9.9543e-03,  4.3299e-02, -1.2125e-03,\n",
       "         1.0194e-01,  3.0446e-02, -1.6221e-03, -3.7709e-02, -8.8119e-02,\n",
       "         9.6962e-02, -4.2026e-02,  5.1753e-02, -3.0169e-02, -2.4113e-02,\n",
       "         8.2256e-03,  7.0259e-02, -4.9231e-02, -3.3134e-02, -2.7584e-03,\n",
       "        -2.2304e-02, -1.4288e-02,  8.5598e-02,  4.4431e-02,  3.7804e-02,\n",
       "         1.6860e-03, -7.7937e-02, -4.2068e-02, -6.5571e-02, -7.6427e-02,\n",
       "         4.9590e-02,  2.8443e-03,  9.8721e-02,  7.3282e-02, -6.3751e-02,\n",
       "         8.0000e-03,  8.7755e-03,  8.3946e-04,  2.6506e-02, -1.7608e-02,\n",
       "        -1.4134e-02,  6.2167e-03,  1.7506e-02,  1.2843e-02,  2.2826e-02,\n",
       "        -3.2478e-02, -4.2687e-02,  3.4883e-02, -9.3357e-03,  1.0057e-03,\n",
       "         2.9127e-02,  2.4968e-02,  4.3678e-02,  6.1076e-02, -3.9208e-03,\n",
       "        -2.0516e-02,  1.4231e-02, -1.9183e-02, -3.4414e-02, -3.6306e-02,\n",
       "        -3.7812e-02,  3.3421e-02, -2.2876e-02,  7.9611e-03,  3.4084e-02,\n",
       "         2.8749e-02, -6.7683e-03, -1.7638e-02, -1.7450e-04, -2.0492e-02,\n",
       "         2.1953e-02,  4.6428e-02, -9.7498e-02, -1.0486e-01, -6.3104e-02,\n",
       "         4.8057e-02,  3.7517e-02,  5.4529e-02,  2.4731e-02,  3.1022e-02,\n",
       "         2.6858e-02, -3.4346e-03,  9.3296e-03,  1.0647e-02, -1.7854e-08,\n",
       "         1.7633e-02, -6.9164e-03, -2.7644e-02,  5.9632e-02,  2.9753e-03,\n",
       "         2.3388e-02, -7.4819e-02, -1.3449e-02, -5.1678e-02, -2.6301e-02,\n",
       "         4.0275e-02,  2.3245e-03, -1.0291e-01, -9.4465e-02,  3.3735e-02,\n",
       "         1.5669e-02,  8.6423e-02,  6.2748e-02, -7.4360e-02, -9.1062e-02,\n",
       "         2.4688e-02, -3.7697e-03,  5.8782e-03,  5.8808e-02, -9.1822e-03,\n",
       "         1.7796e-02,  1.4238e-02, -3.1472e-04, -8.3672e-03,  7.6868e-02,\n",
       "         2.0610e-02,  1.6892e-01, -1.0949e-02,  1.5819e-02, -3.1167e-02,\n",
       "        -5.1331e-02,  1.8592e-02,  3.8085e-03,  4.8018e-02,  3.1980e-02,\n",
       "        -1.4457e-02,  3.3241e-03, -5.3251e-02, -5.6060e-02,  5.7658e-02,\n",
       "        -1.4860e-02,  6.4386e-02, -1.1208e-01,  2.1426e-03,  9.6248e-04,\n",
       "        -4.9242e-02,  1.5647e-02,  5.6404e-02,  5.0492e-02,  4.0297e-02,\n",
       "         7.7956e-02, -1.1733e-02,  2.9995e-02, -6.7439e-02,  2.5585e-02,\n",
       "         3.6097e-03, -2.3025e-02, -3.7002e-02, -2.3749e-03])"
      ]
     },
     "execution_count": 5,
     "metadata": {},
     "output_type": "execute_result"
    }
   ],
   "source": [
    "embedding1"
   ]
  },
  {
   "cell_type": "code",
   "execution_count": 6,
   "id": "1f55d6ff",
   "metadata": {},
   "outputs": [
    {
     "data": {
      "text/plain": [
       "384"
      ]
     },
     "execution_count": 6,
     "metadata": {},
     "output_type": "execute_result"
    }
   ],
   "source": [
    "len(embedding1)"
   ]
  },
  {
   "cell_type": "code",
   "execution_count": 7,
   "id": "129e9902",
   "metadata": {},
   "outputs": [],
   "source": [
    "embedding2 = model.encode(sentence2, convert_to_tensor=True)"
   ]
  },
  {
   "cell_type": "code",
   "execution_count": 8,
   "id": "8c50a1dd",
   "metadata": {},
   "outputs": [
    {
     "data": {
      "text/plain": [
       "tensor([ 7.9273e-03,  1.0824e-02,  6.4440e-02,  4.1073e-02, -5.5623e-02,\n",
       "        -2.4012e-02,  3.3522e-02, -1.3802e-02, -3.6286e-02, -1.3766e-02,\n",
       "        -9.2297e-03, -2.7550e-02, -2.6325e-02, -5.5530e-02,  5.6302e-02,\n",
       "         1.6543e-02, -4.4173e-02,  7.4477e-02, -1.2451e-01, -2.6206e-02,\n",
       "         1.3162e-02, -9.1665e-02, -3.2998e-02, -1.4401e-02,  3.6053e-02,\n",
       "        -4.9651e-02,  1.4674e-02,  6.0289e-02, -1.6662e-02, -5.2135e-02,\n",
       "         2.7662e-02,  5.0990e-02,  9.2509e-03,  2.3633e-02, -5.3486e-02,\n",
       "         2.0829e-02, -2.8609e-02, -6.6983e-02,  2.3909e-03, -4.8774e-02,\n",
       "         4.8256e-02, -7.1694e-02, -2.1886e-02,  2.9340e-02,  3.2780e-02,\n",
       "        -5.9117e-02, -3.6032e-02,  2.3597e-02,  7.0321e-02,  2.6210e-02,\n",
       "        -9.3737e-02, -6.2379e-02, -3.5959e-02,  6.2627e-02,  1.2345e-02,\n",
       "         7.7443e-02,  2.0379e-03,  1.2663e-02,  5.9305e-02, -7.8939e-03,\n",
       "         4.6994e-03,  2.1612e-02, -5.0623e-02,  8.7753e-02,  3.8511e-03,\n",
       "        -3.5347e-02, -4.3526e-02, -3.0914e-02, -1.4298e-02,  3.3903e-02,\n",
       "        -9.7393e-04,  1.2070e-02, -7.5919e-02, -3.6888e-02, -1.6828e-02,\n",
       "        -1.0001e-01,  5.1791e-02, -2.7505e-03,  5.5195e-02,  6.3259e-02,\n",
       "         1.6867e-02, -6.1793e-02,  2.7890e-02,  5.2957e-02,  5.5673e-02,\n",
       "         3.8872e-02,  2.8680e-02,  6.6919e-04, -4.5001e-02, -3.7379e-02,\n",
       "        -4.3527e-02,  1.7203e-02, -5.2586e-03, -3.2998e-03, -3.6850e-02,\n",
       "        -7.2280e-02,  7.0228e-02,  2.4302e-02, -4.5796e-02,  1.8871e-01,\n",
       "         6.6779e-02,  4.7563e-03,  1.9710e-02, -2.1924e-02,  9.4479e-04,\n",
       "         3.7626e-03, -7.8267e-02,  2.9420e-02, -1.2165e-02, -1.4591e-02,\n",
       "        -4.7424e-03, -4.9088e-02, -4.9057e-02, -5.7999e-02, -4.6807e-02,\n",
       "        -4.9188e-02, -3.9863e-02,  2.4735e-02,  5.3725e-02, -4.4039e-02,\n",
       "         3.1025e-03, -6.9843e-02,  2.3645e-02, -6.5240e-02, -5.6601e-02,\n",
       "        -2.7264e-02,  5.8277e-02, -6.6290e-33,  1.4088e-01, -3.1600e-02,\n",
       "         4.2187e-02,  8.2781e-02, -1.6405e-01, -1.9987e-02, -4.2816e-03,\n",
       "        -1.2197e-02, -1.4634e-02,  5.3791e-02,  7.7647e-02, -3.7947e-03,\n",
       "        -2.5172e-02,  8.4344e-03, -5.0274e-02, -9.1107e-02,  5.4633e-02,\n",
       "         6.1595e-03,  7.4122e-03,  1.3685e-03, -1.9728e-02, -2.3593e-02,\n",
       "         4.7938e-02,  5.5510e-02,  7.4159e-02,  3.6312e-02, -1.8611e-02,\n",
       "        -8.0702e-02,  6.0521e-02,  6.1322e-02,  2.8316e-02, -2.9731e-02,\n",
       "        -4.6418e-02, -3.7673e-02, -1.6145e-02,  2.4452e-03,  2.2952e-02,\n",
       "         6.4671e-02,  1.8619e-02, -5.2570e-02, -8.7680e-02,  1.1307e-02,\n",
       "         3.2286e-02, -2.3214e-02, -1.2892e-02,  7.2518e-02,  7.2396e-02,\n",
       "         1.3553e-02,  4.5259e-02,  4.7156e-02, -1.7146e-02, -4.2347e-02,\n",
       "        -6.5618e-02,  5.2500e-02, -5.4738e-02, -8.7002e-02,  1.6323e-02,\n",
       "        -5.3419e-02,  7.0782e-02,  4.1760e-02,  8.1414e-02,  4.9953e-02,\n",
       "        -3.5886e-03,  5.7218e-02, -1.0067e-01, -3.2232e-02,  2.6629e-04,\n",
       "        -7.0543e-02,  1.1586e-01, -9.2428e-02, -6.7212e-02, -5.2977e-03,\n",
       "        -3.0473e-02,  3.7405e-02, -1.0929e-01, -5.5279e-04,  1.4176e-02,\n",
       "         2.0894e-02, -4.4128e-03, -4.1188e-02,  2.2301e-02,  5.4533e-02,\n",
       "        -7.4522e-02,  5.0436e-02,  5.1784e-02, -6.3826e-02,  6.2407e-03,\n",
       "        -2.0567e-02, -8.3370e-04,  2.0163e-02, -9.0211e-02,  4.9252e-02,\n",
       "         1.0791e-01, -6.8889e-02,  2.3691e-02,  4.5169e-33,  3.5472e-02,\n",
       "        -2.4433e-02, -9.2190e-02, -6.7558e-02, -7.7998e-02, -5.2079e-02,\n",
       "         1.7215e-02,  3.9112e-02, -8.7594e-02,  1.5610e-02,  3.0396e-02,\n",
       "         3.0674e-02,  5.9077e-02,  1.5414e-02,  7.1197e-02,  7.3025e-03,\n",
       "         4.2045e-02,  8.9365e-02, -1.0150e-01, -2.3152e-02, -1.0256e-01,\n",
       "        -4.3671e-02,  4.8446e-03, -1.9283e-02, -6.0560e-02, -3.6850e-02,\n",
       "         1.0350e-01,  6.0329e-02,  4.6123e-03, -3.2694e-02,  3.9656e-02,\n",
       "        -6.1969e-02,  2.2963e-02,  5.3042e-02, -2.2898e-02,  7.1122e-02,\n",
       "        -8.3715e-04, -3.7931e-02,  1.4291e-02, -7.6042e-02,  1.3109e-02,\n",
       "        -3.6563e-03, -4.3671e-03,  4.1566e-02, -1.8153e-02, -6.3110e-02,\n",
       "         4.8059e-02, -4.6992e-02, -2.1482e-02,  1.7224e-02,  2.9395e-02,\n",
       "        -4.9815e-02,  2.7460e-02, -4.1420e-02, -1.5906e-02,  2.4864e-02,\n",
       "         3.9682e-02,  2.6176e-02,  1.6466e-02, -2.3282e-02,  2.0418e-02,\n",
       "         1.1763e-02,  7.8767e-03,  1.1803e-01, -9.3839e-04, -7.8029e-03,\n",
       "        -1.4772e-03,  6.0045e-02, -3.7690e-02, -1.3767e-03, -9.0413e-02,\n",
       "         6.1538e-02,  4.6419e-02, -3.7653e-02,  2.2348e-02, -5.0400e-02,\n",
       "         1.8332e-02, -2.0933e-02, -7.0229e-03, -1.3275e-02,  2.8328e-02,\n",
       "        -1.2565e-02,  6.3548e-02, -6.9443e-02, -8.8437e-02, -7.9723e-03,\n",
       "         1.6435e-02, -9.6932e-03, -4.5006e-03, -4.2095e-02, -7.4569e-02,\n",
       "         5.6510e-02,  1.1242e-01,  2.2722e-02,  3.8111e-02, -2.3539e-08,\n",
       "         1.1354e-02, -1.0375e-01,  1.0477e-01,  1.9209e-02,  5.4328e-02,\n",
       "         1.0284e-01, -2.6449e-02,  2.6875e-02, -1.8789e-02, -3.8504e-02,\n",
       "        -4.3439e-02, -3.0456e-02, -4.4354e-02, -6.6099e-02,  6.8179e-02,\n",
       "        -5.3556e-02,  6.8344e-02,  1.4265e-01, -6.3610e-02, -5.6301e-02,\n",
       "        -8.4624e-03,  1.2979e-02,  8.5140e-02,  9.6662e-02,  3.2248e-02,\n",
       "        -1.7689e-02,  3.9298e-02,  3.0391e-02, -2.3820e-02,  2.6647e-02,\n",
       "        -4.6619e-03,  1.2879e-01, -1.1912e-02, -2.3349e-02,  1.1838e-02,\n",
       "        -1.1740e-03, -3.8987e-03,  6.8242e-02,  3.1937e-02, -2.5905e-02,\n",
       "        -7.1155e-03, -6.2483e-02, -2.2372e-02, -1.8877e-02,  4.3258e-02,\n",
       "         1.0137e-01,  3.5450e-02, -1.3859e-01,  2.2678e-02,  5.6384e-03,\n",
       "        -1.7328e-02, -4.6561e-02,  6.2358e-02,  1.8584e-02, -2.4268e-02,\n",
       "         1.8153e-02,  5.0943e-02, -7.3222e-03,  1.1061e-02,  5.7155e-02,\n",
       "         4.7716e-02,  6.6931e-02, -8.2203e-03, -1.6252e-02])"
      ]
     },
     "execution_count": 8,
     "metadata": {},
     "output_type": "execute_result"
    }
   ],
   "source": [
    "embedding2"
   ]
  },
  {
   "cell_type": "code",
   "execution_count": 9,
   "id": "8ae36a4e",
   "metadata": {},
   "outputs": [
    {
     "name": "stdout",
     "output_type": "stream",
     "text": [
      "Similarity: 0.5163\n"
     ]
    }
   ],
   "source": [
    "similarity = cosine_similarity(embedding1, embedding2, dim=0)\n",
    "print(f\"Similarity: {similarity.item():.4f}\")"
   ]
  },
  {
   "cell_type": "markdown",
   "id": "b092a6c6",
   "metadata": {},
   "source": [
    "## Example of AutoModelClass with Different heads\n",
    "\n",
    "| Task                        | Class Name                                          | Description                                          |\n",
    "| --------------------------- | --------------------------------------------------- | ---------------------------------------------------- |\n",
    "| Base Model               | `AutoModel`                                         | Just embeddings (no head), for feature extraction    |\n",
    "| Masked LM                | `AutoModelForMaskedLM`                              | For BERT-style `[MASK]` prediction                   |\n",
    "| Sequence Classification | `AutoModelForSequenceClassification`                | For sentence-level tasks like sentiment, spam        |\n",
    "| Token Classification     | `AutoModelForTokenClassification`                   | For NER, POS tagging (token-level labels)            |\n",
    "| Multiple Choice          | `AutoModelForMultipleChoice`                        | For MCQ tasks (e.g., SWAG dataset)                   |\n",
    "| Next Sentence Prediction | `AutoModelForNextSentencePrediction`                | For NSP (mainly BERT pretraining)                    |\n",
    "| Causal LM (Text Gen)     | `AutoModelForCausalLM`                              | For GPT-style models (left-to-right text generation) |\n",
    "| Seq2Seq LM               | `AutoModelForSeq2SeqLM`                             | For translation, summarization (T5, BART)            |\n",
    "| Question Answering       | `AutoModelForQuestionAnswering`                     | For extractive QA (SQuAD-style)                      |\n",
    "| Vision Tasks            | `AutoModelForImageClassification`, etc.             | For image classification (e.g., ViT)                 |\n",
    "| Audio Tasks              | `AutoModelForAudioClassification`, etc.             | For Wav2Vec, Whisper, etc.                           |\n",
    "| Conditional Generation   | `AutoModelForConditionalGeneration`                 | For T5/BART-style seq2seq tasks                      |\n",
    "| Zero-shot Tasks          | `AutoModelForZeroShotClassification` (via pipeline) | For inference without fine-tuning                    |\n",
    "| Contrastive Learning     | `AutoModelForContrastiveLearning`                   | For embeddings comparison tasks                      |\n"
   ]
  },
  {
   "cell_type": "code",
   "execution_count": 10,
   "id": "34b0f97c",
   "metadata": {},
   "outputs": [],
   "source": [
    "sentence = \"I am doing very happy\""
   ]
  },
  {
   "cell_type": "code",
   "execution_count": 15,
   "id": "0cd379af",
   "metadata": {},
   "outputs": [],
   "source": [
    "from transformers import AutoTokenizer, AutoModel\n",
    "tokenizer = AutoTokenizer.from_pretrained(\"bert-base-cased\")"
   ]
  },
  {
   "cell_type": "code",
   "execution_count": 17,
   "id": "ce416630",
   "metadata": {},
   "outputs": [],
   "source": [
    "inputs = tokenizer(sentence, return_tensors=\"pt\")"
   ]
  },
  {
   "cell_type": "code",
   "execution_count": 18,
   "id": "3abe7398",
   "metadata": {},
   "outputs": [
    {
     "data": {
      "text/plain": [
       "{'input_ids': tensor([[ 101,  146, 1821, 1833, 1304, 2816,  102]]), 'token_type_ids': tensor([[0, 0, 0, 0, 0, 0, 0]]), 'attention_mask': tensor([[1, 1, 1, 1, 1, 1, 1]])}"
      ]
     },
     "execution_count": 18,
     "metadata": {},
     "output_type": "execute_result"
    }
   ],
   "source": [
    "inputs"
   ]
  },
  {
   "cell_type": "code",
   "execution_count": 19,
   "id": "e3ec6045",
   "metadata": {},
   "outputs": [
    {
     "data": {
      "text/plain": [
       "tensor([[0, 0, 0, 0, 0, 0, 0]])"
      ]
     },
     "execution_count": 19,
     "metadata": {},
     "output_type": "execute_result"
    }
   ],
   "source": [
    "inputs.pop(\"token_type_ids\")"
   ]
  },
  {
   "cell_type": "code",
   "execution_count": 20,
   "id": "a093197e",
   "metadata": {},
   "outputs": [
    {
     "data": {
      "text/plain": [
       "{'input_ids': tensor([[ 101,  146, 1821, 1833, 1304, 2816,  102]]), 'attention_mask': tensor([[1, 1, 1, 1, 1, 1, 1]])}"
      ]
     },
     "execution_count": 20,
     "metadata": {},
     "output_type": "execute_result"
    }
   ],
   "source": [
    "inputs"
   ]
  },
  {
   "cell_type": "code",
   "execution_count": 21,
   "id": "f4322a6e",
   "metadata": {},
   "outputs": [],
   "source": [
    "from transformers import AutoModelForSequenceClassification"
   ]
  },
  {
   "cell_type": "code",
   "execution_count": 22,
   "id": "3c020f40",
   "metadata": {},
   "outputs": [
    {
     "data": {
      "application/vnd.jupyter.widget-view+json": {
       "model_id": "1515cbba3bfd46fbbf1491752678d031",
       "version_major": 2,
       "version_minor": 0
      },
      "text/plain": [
       "config.json:   0%|          | 0.00/629 [00:00<?, ?B/s]"
      ]
     },
     "metadata": {},
     "output_type": "display_data"
    },
    {
     "name": "stderr",
     "output_type": "stream",
     "text": [
      "c:\\MY_Folder\\Git_FineTuning_Folder\\FineTuning_Files\\finetune_env\\lib\\site-packages\\huggingface_hub\\file_download.py:143: UserWarning: `huggingface_hub` cache-system uses symlinks by default to efficiently store duplicated files but your machine does not support them in C:\\Users\\Mohan\\.cache\\huggingface\\hub\\models--distilbert-base-uncased-finetuned-sst-2-english. Caching files will still work but in a degraded version that might require more space on your disk. This warning can be disabled by setting the `HF_HUB_DISABLE_SYMLINKS_WARNING` environment variable. For more details, see https://huggingface.co/docs/huggingface_hub/how-to-cache#limitations.\n",
      "To support symlinks on Windows, you either need to activate Developer Mode or to run Python as an administrator. In order to activate developer mode, see this article: https://docs.microsoft.com/en-us/windows/apps/get-started/enable-your-device-for-development\n",
      "  warnings.warn(message)\n",
      "Xet Storage is enabled for this repo, but the 'hf_xet' package is not installed. Falling back to regular HTTP download. For better performance, install the package with: `pip install huggingface_hub[hf_xet]` or `pip install hf_xet`\n"
     ]
    },
    {
     "data": {
      "application/vnd.jupyter.widget-view+json": {
       "model_id": "bf7cf922cd274f7fba095128548b5c61",
       "version_major": 2,
       "version_minor": 0
      },
      "text/plain": [
       "model.safetensors:   0%|          | 0.00/268M [00:00<?, ?B/s]"
      ]
     },
     "metadata": {},
     "output_type": "display_data"
    }
   ],
   "source": [
    "clf_model = AutoModelForSequenceClassification.from_pretrained(\"distilbert-base-uncased-finetuned-sst-2-english\")"
   ]
  },
  {
   "cell_type": "code",
   "execution_count": 23,
   "id": "2b24d9ac",
   "metadata": {},
   "outputs": [],
   "source": [
    "import torch\n",
    "with torch.no_grad():\n",
    "    outputs = clf_model(**inputs)"
   ]
  },
  {
   "cell_type": "code",
   "execution_count": 24,
   "id": "eda8efa7",
   "metadata": {},
   "outputs": [],
   "source": [
    "logits = outputs.logits"
   ]
  },
  {
   "cell_type": "code",
   "execution_count": 25,
   "id": "23ae9ee7",
   "metadata": {},
   "outputs": [],
   "source": [
    "predicted_class = torch.argmax(logits, dim=1)"
   ]
  },
  {
   "cell_type": "code",
   "execution_count": 26,
   "id": "789d77b2",
   "metadata": {},
   "outputs": [
    {
     "name": "stdout",
     "output_type": "stream",
     "text": [
      "0\n"
     ]
    }
   ],
   "source": [
    "print(predicted_class.item())  # 1 = Positive, 0 = Negative"
   ]
  },
  {
   "cell_type": "code",
   "execution_count": 27,
   "id": "ec80988c",
   "metadata": {},
   "outputs": [],
   "source": [
    "from transformers import AutoTokenizer, AutoModelForCausalLM"
   ]
  },
  {
   "cell_type": "code",
   "execution_count": null,
   "id": "a909822a",
   "metadata": {},
   "outputs": [
    {
     "name": "stderr",
     "output_type": "stream",
     "text": [
      "Xet Storage is enabled for this repo, but the 'hf_xet' package is not installed. Falling back to regular HTTP download. For better performance, install the package with: `pip install huggingface_hub[hf_xet]` or `pip install hf_xet`\n"
     ]
    },
    {
     "data": {
      "application/vnd.jupyter.widget-view+json": {
       "model_id": "a18e8b8b65ce4b3d8ede8edcb6c93390",
       "version_major": 2,
       "version_minor": 0
      },
      "text/plain": [
       "model.safetensors:   0%|          | 0.00/548M [00:00<?, ?B/s]"
      ]
     },
     "metadata": {},
     "output_type": "display_data"
    }
   ],
   "source": [
    "gpt_tok = AutoTokenizer.from_pretrained(\"gpt2\")\n",
    "gpt_model = AutoModelForCausalLM.from_pretrained(\"gpt2\")"
   ]
  },
  {
   "cell_type": "code",
   "execution_count": null,
   "id": "8526bbf0",
   "metadata": {},
   "outputs": [],
   "source": [
    "sentence = \"Transformers are beast\""
   ]
  },
  {
   "cell_type": "code",
   "execution_count": null,
   "id": "f9f3f516",
   "metadata": {},
   "outputs": [],
   "source": [
    "gpt_inputs = gpt_tok(sentence, return_tensors=\"pt\")"
   ]
  },
  {
   "cell_type": "code",
   "execution_count": null,
   "id": "608ee150",
   "metadata": {},
   "outputs": [],
   "source": [
    "with torch.no_grad():\n",
    "    gpt_output = gpt_model.generate(\n",
    "        gpt_inputs[\"input_ids\"],\n",
    "        max_length=gpt_inputs[\"input_ids\"].shape[1] + 5,  # predict next 5 tokens\n",
    "        do_sample=False  # deterministic output\n",
    "    )\n"
   ]
  },
  {
   "cell_type": "code",
   "execution_count": null,
   "id": "48aedc1c",
   "metadata": {},
   "outputs": [],
   "source": [
    "generated_text = gpt_tok.decode(gpt_output[0], skip_special_tokens=True)"
   ]
  },
  {
   "cell_type": "code",
   "execution_count": null,
   "id": "d4ae4806",
   "metadata": {},
   "outputs": [],
   "source": [
    "print(\"GPT-2 generated:\", generated_text)"
   ]
  },
  {
   "cell_type": "code",
   "execution_count": null,
   "id": "6d66b499",
   "metadata": {},
   "outputs": [],
   "source": [
    "from transformers import AutoConfig, AutoModel"
   ]
  },
  {
   "cell_type": "code",
   "execution_count": null,
   "id": "b2b8622a",
   "metadata": {},
   "outputs": [],
   "source": [
    "config = AutoConfig.from_pretrained(\"bert-base-uncased\")"
   ]
  },
  {
   "cell_type": "code",
   "execution_count": null,
   "id": "2df8d658",
   "metadata": {},
   "outputs": [],
   "source": [
    "print(config.hidden_size)\n",
    "print(config.num_attention_heads)\n",
    "print(config.vocab_size)\n",
    "print(config.hidden_act)  # shows which activation function is used\n",
    "print(config.num_labels)"
   ]
  },
  {
   "cell_type": "code",
   "execution_count": null,
   "id": "022ee6b9",
   "metadata": {},
   "outputs": [],
   "source": [
    "config.num_labels = 5  # change for multi-class classification"
   ]
  },
  {
   "cell_type": "code",
   "execution_count": null,
   "id": "ce1c7c0d",
   "metadata": {},
   "outputs": [],
   "source": [
    "print(config.num_labels)"
   ]
  },
  {
   "cell_type": "code",
   "execution_count": null,
   "id": "f38ef606",
   "metadata": {},
   "outputs": [],
   "source": [
    "model = AutoModel.from_config(config)  # No pretrained weights"
   ]
  },
  {
   "cell_type": "code",
   "execution_count": null,
   "id": "186c3b76",
   "metadata": {},
   "outputs": [],
   "source": [
    "model"
   ]
  },
  {
   "cell_type": "markdown",
   "id": "1bac48f5",
   "metadata": {},
   "source": [
    "| Feature                      | `AutoModel`, `AutoModelForSequenceClassification`, etc. | `AutoConfig`     |\n",
    "| ---------------------------- | ------------------------------------------------------- | ---------------- |\n",
    "| Load Pretrained Weights?     | ✅ Yes                                                   | ❌ No             |\n",
    "| Returns Model?               | ✅ Yes (BERT, DistilBERT, etc.)                          | ❌ No             |\n",
    "| Used for Training/Inference? | ✅                                                       | ❌ (only config)  |\n",
    "| Editable for Custom Models?  | Limited                                                 | ✅ Fully Editable |\n"
   ]
  },
  {
   "cell_type": "markdown",
   "id": "a4eb2c60",
   "metadata": {},
   "source": [
    "#### If you want to download the model on your local machine then follow below code"
   ]
  },
  {
   "cell_type": "code",
   "execution_count": null,
   "id": "6ca88a26",
   "metadata": {},
   "outputs": [],
   "source": [
    "from huggingface_hub import snapshot_download"
   ]
  },
  {
   "cell_type": "code",
   "execution_count": null,
   "id": "1780b9a6",
   "metadata": {},
   "outputs": [],
   "source": [
    "snapshot_download(\n",
    "    repo_id=\"bert-base-uncased\",\n",
    "    local_dir=\"/content/test\",   # where to download\n",
    "    local_dir_use_symlinks=False  # to copy instead of symlinking\n",
    ")"
   ]
  },
  {
   "cell_type": "markdown",
   "id": "54d00515",
   "metadata": {},
   "source": [
    "### Load the model"
   ]
  },
  {
   "cell_type": "code",
   "execution_count": null,
   "id": "c499b6f0",
   "metadata": {},
   "outputs": [],
   "source": [
    "from transformers import AutoTokenizer, AutoModel"
   ]
  },
  {
   "cell_type": "code",
   "execution_count": null,
   "id": "64ed5da8",
   "metadata": {},
   "outputs": [],
   "source": [
    "tokenizer = AutoTokenizer.from_pretrained(\"/content/test\")"
   ]
  },
  {
   "cell_type": "code",
   "execution_count": null,
   "id": "7fd685cb",
   "metadata": {},
   "outputs": [],
   "source": [
    "tokenizer"
   ]
  },
  {
   "cell_type": "code",
   "execution_count": null,
   "id": "d3d3b9ac",
   "metadata": {},
   "outputs": [],
   "source": [
    "model = AutoModel.from_pretrained(\"/content/test\")"
   ]
  },
  {
   "cell_type": "code",
   "execution_count": null,
   "id": "50b21590",
   "metadata": {},
   "outputs": [],
   "source": [
    "model"
   ]
  },
  {
   "cell_type": "markdown",
   "id": "671edfdf",
   "metadata": {},
   "source": [
    "# Inbuilt Pipeline method"
   ]
  },
  {
   "cell_type": "markdown",
   "id": "0898c399",
   "metadata": {},
   "source": [
    "| Parameter           | Type                        | Description / Use Case                                                               |\n",
    "| ------------------- | --------------------------- | ------------------------------------------------------------------------------------ |\n",
    "| `task`              | `str`                       | Task name like `\"text-classification\"`, `\"text-generation\"`, `\"summarization\"`, etc. |\n",
    "| `model`             | `str` or `PreTrainedModel`  | Model name (e.g., `\"bert-base-uncased\"`) or loaded model object                      |\n",
    "| `tokenizer`         | `str` or Tokenizer Object   | Optional – auto-loaded from model if not given                                       |\n",
    "| `config`            | `str` or `PretrainedConfig` | Optional – custom configuration (e.g., num labels, dropout, etc.)                    |\n",
    "| `framework`         | `str` (`\"pt\"` or `\"tf\"`)    | Force PyTorch or TensorFlow (auto-detected if not set)                               |\n",
    "| `device`            | `int` or `str`              | `0` = GPU, `-1` = CPU, `\"cuda\"` or `\"cpu\"`                                           |\n",
    "| `revision`          | `str`                       | Git branch/tag/commit from Hugging Face Hub (e.g., `\"main\"`, `\"v1.0\"`)               |\n",
    "| `use_fast`          | `bool`                      | Whether to use fast tokenizer (defaults to `True`)                                   |\n",
    "| `token`             | `str` or `bool`             | Hugging Face token (needed for private models or rate limits)                        |\n",
    "| `device_map`        | `Any`                       | For multi-GPU / model parallelism                                                    |\n",
    "| `torch_dtype`       | `torch.dtype`               | Force precision: e.g., `torch.float16` for faster inference                          |\n",
    "| `trust_remote_code` | `bool`                      | Allow loading custom `model.py` logic from HF repo (for advanced/custom models)      |\n",
    "| `model_kwargs`      | `dict`                      | Extra arguments to pass to model (e.g., `temperature`, `top_p`, `max_length`, etc.)  |\n",
    "| `feature_extractor` | `str` or Object             | Used for older vision/audio models (now replaced by `image_processor`)               |\n",
    "| `image_processor`   | `BaseImageProcessor`        | For image tasks (used in ViT, SAM, etc.)                                             |\n",
    "| `processor`         | `ProcessorMixin`            | For multi-modal models (e.g., Whisper, CLIP, LayoutLMv3)                             |\n",
    "| `pipeline_class`    | `Any`                       | Custom pipeline class if you’re extending or modifying the base pipeline logic       |\n",
    "| `**kwargs`          | `Any`                       | Additional pipeline-specific keyword arguments (like `max_length`, `top_k`, etc.)    |\n"
   ]
  },
  {
   "cell_type": "code",
   "execution_count": null,
   "id": "c7ebafe7",
   "metadata": {},
   "outputs": [],
   "source": [
    "from transformers import pipeline"
   ]
  },
  {
   "cell_type": "code",
   "execution_count": null,
   "id": "be6f1bd4",
   "metadata": {},
   "outputs": [],
   "source": [
    "classifier=pipeline(\"sentiment-analysis\")"
   ]
  },
  {
   "cell_type": "code",
   "execution_count": null,
   "id": "4caecf46",
   "metadata": {},
   "outputs": [],
   "source": [
    "classifier(\"i will learn AI throughout my entire life it is like a passion\")"
   ]
  },
  {
   "cell_type": "code",
   "execution_count": null,
   "id": "d99663d4",
   "metadata": {},
   "outputs": [],
   "source": [
    "classifier(\"mera dost don hai\")"
   ]
  },
  {
   "cell_type": "code",
   "execution_count": null,
   "id": "731074c1",
   "metadata": {},
   "outputs": [],
   "source": [
    "result = pipeline(\"sentiment-analysis\")(\"Hugging Face is awesome\")\n",
    "print(result)"
   ]
  },
  {
   "cell_type": "code",
   "execution_count": null,
   "id": "5e34009a",
   "metadata": {},
   "outputs": [],
   "source": [
    "lassifier=pipeline(\"zero-shot-classification\")"
   ]
  },
  {
   "cell_type": "code",
   "execution_count": null,
   "id": "7e13aaa3",
   "metadata": {},
   "outputs": [],
   "source": [
    "res = lassifier(\n",
    "    \"This is a course about Python list comprehension\",\n",
    "    candidate_labels=[\"education\", \"politics\", \"business\"],\n",
    ")"
   ]
  },
  {
   "cell_type": "code",
   "execution_count": null,
   "id": "e19bd5fe",
   "metadata": {},
   "outputs": [],
   "source": [
    "print(res)"
   ]
  },
  {
   "cell_type": "code",
   "execution_count": null,
   "id": "32254bb5",
   "metadata": {},
   "outputs": [],
   "source": [
    "generation=pipeline(\"text-generation\")"
   ]
  },
  {
   "cell_type": "code",
   "execution_count": null,
   "id": "87fef452",
   "metadata": {},
   "outputs": [],
   "source": [
    "generation(\"python is a simple language what is your thought?\")"
   ]
  },
  {
   "cell_type": "code",
   "execution_count": null,
   "id": "611a7a47",
   "metadata": {},
   "outputs": [],
   "source": [
    "generation(\"hello how are you?\")"
   ]
  },
  {
   "cell_type": "code",
   "execution_count": null,
   "id": "b416dd92",
   "metadata": {},
   "outputs": [],
   "source": [
    "summarizer=pipeline(\"summarization\")"
   ]
  },
  {
   "cell_type": "code",
   "execution_count": null,
   "id": "7d5de33f",
   "metadata": {},
   "outputs": [],
   "source": [
    "text=\"A large language model (LLM) is a machine learning model that uses deep learning to perform natural language processing (NLP) tasks. LLMs are trained on large amounts of text to learn how to respond to user requests with human-like language.\""
   ]
  },
  {
   "cell_type": "code",
   "execution_count": null,
   "id": "e4bb4b5f",
   "metadata": {},
   "outputs": [],
   "source": [
    "print(summarizer(text,max_length=10))"
   ]
  },
  {
   "cell_type": "markdown",
   "id": "18ac4577",
   "metadata": {},
   "source": [
    "| Property          | Value                                                             |\n",
    "| ----------------- | ----------------------------------------------------------------- |\n",
    "| **Model Name**    | `google/long-t5-tglobal-base`                                     |\n",
    "| **Architecture**  | Long-T5 (based on T5 but designed for *long documents*)           |\n",
    "| **Type**          | Encoder-decoder Transformer (seq2seq)                             |\n",
    "| **Token Limit**   | Can handle **16,384 tokens** (way more than normal T5 → 512/1024) |\n",
    "| **Attention**     | Uses **\"Transverse Global Attention\"**, better for long contexts  |\n",
    "| **Pretrained By** | Google Research                                                   |\n",
    "| **Tasks**         | Mainly for **summarization**, also good for long text generation  |\n",
    "| **Variants**      | `base`, `large`, `xl` – you are using `base`                      |\n"
   ]
  },
  {
   "cell_type": "code",
   "execution_count": null,
   "id": "d3f14019",
   "metadata": {},
   "outputs": [],
   "source": [
    "summarizer = pipeline(\"summarization\", model=\"google/long-t5-tglobal-base\")"
   ]
  },
  {
   "cell_type": "code",
   "execution_count": null,
   "id": "e23e962a",
   "metadata": {},
   "outputs": [],
   "source": [
    "summary = summarizer(text, max_length=50, min_length=10, do_sample=False)"
   ]
  },
  {
   "cell_type": "code",
   "execution_count": null,
   "id": "fa27ea92",
   "metadata": {},
   "outputs": [],
   "source": [
    "print(summary[0]['summary_text'])"
   ]
  },
  {
   "cell_type": "code",
   "execution_count": null,
   "id": "a5e9b023",
   "metadata": {},
   "outputs": [],
   "source": [
    "qa = pipeline(\"question-answering\")\n",
    "print(qa(question=\"Where do I work?\", context=\"I work at Hugging Face.\"))"
   ]
  },
  {
   "cell_type": "code",
   "execution_count": null,
   "id": "22c5e210",
   "metadata": {},
   "outputs": [],
   "source": [
    "from transformers import pipeline\n",
    "import time\n",
    "\n",
    "texts = [\"I absolutely love transformers!\"] * 100"
   ]
  },
  {
   "cell_type": "code",
   "execution_count": null,
   "id": "4feb38c9",
   "metadata": {},
   "outputs": [],
   "source": [
    "# BERT\n",
    "start = time.time()\n",
    "bert = pipeline(\"sentiment-analysis\", model=\"bert-base-uncased\")\n",
    "bert(texts)\n",
    "print(\"BERT Time:\", time.time() - start)"
   ]
  },
  {
   "cell_type": "code",
   "execution_count": null,
   "id": "41d420d5",
   "metadata": {},
   "outputs": [],
   "source": [
    "# DistilBERT\n",
    "start = time.time()\n",
    "distil = pipeline(\"sentiment-analysis\", model=\"distilbert-base-uncased-finetuned-sst-2-english\")\n",
    "distil(texts)\n",
    "print(\"DistilBERT Time:\", time.time() - start)"
   ]
  },
  {
   "cell_type": "markdown",
   "id": "0c9848b6",
   "metadata": {},
   "source": [
    "## Evalution Matrixs"
   ]
  },
  {
   "cell_type": "code",
   "execution_count": null,
   "id": "25a7905a",
   "metadata": {},
   "outputs": [],
   "source": [
    "!pip install evaluate\n",
    "!pip install rouge_score\n",
    "!pip install evaluate[visualization]"
   ]
  },
  {
   "cell_type": "code",
   "execution_count": null,
   "id": "c460444e",
   "metadata": {},
   "outputs": [],
   "source": [
    "!pip install -U datasets fsspec"
   ]
  },
  {
   "cell_type": "code",
   "execution_count": null,
   "id": "e8f905eb",
   "metadata": {},
   "outputs": [],
   "source": [
    "import evaluate"
   ]
  },
  {
   "cell_type": "code",
   "execution_count": null,
   "id": "88666138",
   "metadata": {},
   "outputs": [],
   "source": [
    "accuracy = evaluate.load(\"accuracy\")"
   ]
  },
  {
   "cell_type": "code",
   "execution_count": null,
   "id": "3502a020",
   "metadata": {},
   "outputs": [],
   "source": [
    "result = accuracy.compute(predictions=[0, 1, 1, 0], references=[0, 1, 0, 0])"
   ]
  },
  {
   "cell_type": "code",
   "execution_count": null,
   "id": "2030a8c4",
   "metadata": {},
   "outputs": [],
   "source": [
    "print(result)"
   ]
  },
  {
   "cell_type": "code",
   "execution_count": null,
   "id": "d6da269f",
   "metadata": {},
   "outputs": [],
   "source": [
    "def compute_metrics(eval_pred):\n",
    "    logits, labels = eval_pred\n",
    "    predictions = logits.argmax(axis=-1)\n",
    "    return accuracy.compute(predictions=predictions, references=labels)"
   ]
  },
  {
   "cell_type": "code",
   "execution_count": null,
   "id": "1a84fe8f",
   "metadata": {},
   "outputs": [],
   "source": [
    "from datasets import load_dataset\n",
    "from transformers import AutoTokenizer, AutoModelForSequenceClassification\n",
    "from transformers import Trainer, TrainingArguments"
   ]
  },
  {
   "cell_type": "code",
   "execution_count": null,
   "id": "2d4694d2",
   "metadata": {},
   "outputs": [],
   "source": [
    "# Load dataset subsets\n",
    "train_dataset = load_dataset(\"imdb\", split=\"train[:100]\")\n",
    "test_dataset = load_dataset(\"imdb\", split=\"test[:100]\")"
   ]
  },
  {
   "cell_type": "code",
   "execution_count": null,
   "id": "0c9661e0",
   "metadata": {},
   "outputs": [],
   "source": [
    "# Load pretrained model and tokenizer\n",
    "model = AutoModelForSequenceClassification.from_pretrained(\"distilbert-base-uncased\", num_labels=2)\n",
    "tokenizer = AutoTokenizer.from_pretrained(\"distilbert-base-uncased\")"
   ]
  },
  {
   "cell_type": "code",
   "execution_count": null,
   "id": "25d9dea9",
   "metadata": {},
   "outputs": [],
   "source": [
    "# Tokenize and format\n",
    "def tokenize(example):\n",
    "    return tokenizer(example[\"text\"], truncation=True, padding=\"max_length\")"
   ]
  },
  {
   "cell_type": "code",
   "execution_count": null,
   "id": "7502c95a",
   "metadata": {},
   "outputs": [],
   "source": [
    "# Tokenize train and test\n",
    "train_encoded = train_dataset.map(tokenize, batched=True)\n",
    "test_encoded = test_dataset.map(tokenize, batched=True)"
   ]
  },
  {
   "cell_type": "code",
   "execution_count": null,
   "id": "e137031f",
   "metadata": {},
   "outputs": [],
   "source": [
    "# Format for PyTorch\n",
    "train_encoded.set_format(\"torch\", columns=[\"input_ids\", \"attention_mask\", \"label\"])\n",
    "test_encoded.set_format(\"torch\", columns=[\"input_ids\", \"attention_mask\", \"label\"])"
   ]
  },
  {
   "cell_type": "code",
   "execution_count": null,
   "id": "24bc411f",
   "metadata": {},
   "outputs": [],
   "source": [
    "# Define Trainer with metrics\n",
    "args = TrainingArguments(output_dir=\"eval-check\", per_device_eval_batch_size=32,report_to=\"none\")"
   ]
  },
  {
   "cell_type": "code",
   "execution_count": null,
   "id": "654e4312",
   "metadata": {},
   "outputs": [],
   "source": [
    "trainer = Trainer(model=model, args=args, compute_metrics=compute_metrics)"
   ]
  },
  {
   "cell_type": "code",
   "execution_count": null,
   "id": "ee99ccdf",
   "metadata": {},
   "outputs": [],
   "source": [
    "metrics = trainer.evaluate(eval_dataset=test_encoded)"
   ]
  },
  {
   "cell_type": "code",
   "execution_count": null,
   "id": "80879169",
   "metadata": {},
   "outputs": [],
   "source": [
    "print(metrics)"
   ]
  },
  {
   "cell_type": "markdown",
   "id": "0d9305f9",
   "metadata": {},
   "source": [
    "## bleu, rouge, perplexity"
   ]
  },
  {
   "cell_type": "code",
   "execution_count": null,
   "id": "5abc7d93",
   "metadata": {},
   "outputs": [],
   "source": [
    "from evaluate import load\n",
    "\n",
    "bleu = load(\"bleu\")\n",
    "\n",
    "# Model output (machine translation)\n",
    "predictions = [\"The cat is sitting on the mat\"]\n",
    "\n",
    "# Human reference translation\n",
    "references = [[\"The cat sat on the mat\"]]\n",
    "\n",
    "result = bleu.compute(predictions=predictions, references=references)\n",
    "print(\"BLEU Score:\", result)"
   ]
  },
  {
   "cell_type": "markdown",
   "id": "8ec6e255",
   "metadata": {},
   "source": [
    "| Metric            | Value | Meaning                        |\n",
    "| ----------------- | ----- | ------------------------------ |\n",
    "| `precisions[0]`   | 0.714 | 5/7 unigrams matched           |\n",
    "| `precisions[1]`   | 0.5   | 3/6 bigrams matched            |\n",
    "| `precisions[2]`   | 0.2   | 1/5 trigrams matched           |\n",
    "| `precisions[3]`   | 0.0   | No 4-gram match ⇒ BLEU = 0     |\n",
    "| `brevity_penalty` | 1.0   | No penalty (longer prediction) |\n",
    "| `BLEU`            | 0.0   | Killed by zero 4-gram match    |\n"
   ]
  },
  {
   "cell_type": "markdown",
   "id": "f4f676ce",
   "metadata": {},
   "source": [
    "![image.png](data:image/png;base64,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)"
   ]
  },
  {
   "cell_type": "code",
   "execution_count": null,
   "id": "3a7b130d",
   "metadata": {},
   "outputs": [],
   "source": [
    "from evaluate import load\n",
    "\n",
    "bleu = load(\"bleu\")\n",
    "\n",
    "# Model-generated headline (prediction)\n",
    "predictions = [\"Government unveils new climate action plan\"]\n",
    "\n",
    "# Real human-written headline (reference)\n",
    "references = [[\"Government announces new plan to fight climate change\"]]\n",
    "\n",
    "result = bleu.compute(predictions=predictions, references=references)\n",
    "print(\"BLEU Score (Text Gen):\", result)\n"
   ]
  },
  {
   "cell_type": "code",
   "execution_count": null,
   "id": "5b1d517f",
   "metadata": {},
   "outputs": [],
   "source": [
    "from evaluate import load\n",
    "\n",
    "rouge = load(\"rouge\")\n",
    "\n",
    "# Model-generated summary\n",
    "predicted_summary = [\"Hugging Face develops powerful AI tools.\"]\n",
    "\n",
    "# Ground truth (human-written) summary\n",
    "reference_summary = [\"Hugging Face is a company that builds AI models.\"]\n",
    "\n",
    "result = rouge.compute(predictions=predicted_summary, references=reference_summary)\n",
    "print(\"ROUGE Scores:\", result)\n"
   ]
  },
  {
   "cell_type": "markdown",
   "id": "40c3564b",
   "metadata": {},
   "source": [
    "| Metric       | Meaning                    | Score | Why                         |\n",
    "| ------------ | -------------------------- | ----- | --------------------------- |\n",
    "| `ROUGE-1`    | Unigram recall             | 0.4   | 3/9 words matched           |\n",
    "| `ROUGE-2`    | Bigram recall              | 0.15  | Only \"Hugging Face\" matched |\n",
    "| `ROUGE-L`    | Longest Common Subsequence | 0.4   | \"Hugging Face AI\" is LCS    |\n",
    "| `ROUGE-Lsum` | Sentence-level LCS         | 0.4   | Same as above (1 sentence)  |\n"
   ]
  },
  {
   "cell_type": "markdown",
   "id": "8bfb4896",
   "metadata": {},
   "source": [
    "| Feature                 | **BLEU (Bilingual Evaluation Understudy)**          | **ROUGE (Recall-Oriented Understudy for Gisting Evaluation)** |\n",
    "| ----------------------- | --------------------------------------------------- | ------------------------------------------------------------- |\n",
    "| **Primary Focus**       | Precision (How much predicted is correct)           | Recall (How much reference is captured)                       |\n",
    "| **N-gram type**         | 1-gram to 4-gram precision                          | 1-gram to 4-gram recall + LCS (ROUGE-L)                       |\n",
    "| **Formula Style**       | \\$BLEU = BP \\times \\exp(\\text{avg log precision})\\$ | \\$ROUGE = \\frac{\\text{overlap}}{\\text{reference length}}\\$    |\n",
    "| **Brevity Penalty**     | Yes — penalizes too-short output                    | No — doesn’t punish short outputs                             |\n",
    "| **Best For**            | Machine Translation, factual generation             | Summarization, content preservation                           |\n",
    "| **Fails When**          | Synonyms used, multiple valid outputs               | Extra irrelevant content is present                           |\n",
    "| **Overlap type**        | Exact n-gram match (no flexibility)                 | Longest sequence, flexible phrasing                           |\n",
    "| **Multiple References** | Supported                                           | Supported                                                     |\n",
    "| **Interpretation**      | Higher BLEU = more precise and fluent output        | Higher ROUGE = more informative and complete output           |\n",
    "| **Used In**             | Machine Translation, chatbot QA, factual generation | Summarization, headline generation                            |\n",
    "| **Metric Values**       | 0 to 1 (or 0 to 100%)                               | 0 to 1 (or 0 to 100%)                                         |\n"
   ]
  },
  {
   "cell_type": "code",
   "execution_count": null,
   "id": "85fe66f0",
   "metadata": {},
   "outputs": [],
   "source": [
    "from evaluate import load\n",
    "\n",
    "perplexity = load(\"perplexity\")\n",
    "\n",
    "# Sentence generated by your language model\n",
    "predictions = [\"The government announced a new climate policy today.\"]\n",
    "\n",
    "# Evaluate how fluent/confident GPT2 is on this sentence\n",
    "result = perplexity.compute(predictions=predictions, model_id=\"gpt2\")\n",
    "print(\"Perplexity:\", result)\n"
   ]
  },
  {
   "cell_type": "markdown",
   "id": "63917a46",
   "metadata": {},
   "source": [
    "| Aspect         | Value                                                                                 |\n",
    "| -------------- | ------------------------------------------------------------------------------------- |\n",
    "| Sentence       | `\"The government announced a new climate policy today.\"`                              |\n",
    "| Model          | `gpt2` (English LM)                                                                   |\n",
    "| Perplexity     | **42.04**                                                                             |\n",
    "| Interpretation | GPT-2 is **moderately unsure** about this sentence — it's not fluent but not terrible |\n",
    "| Ideal Value    | Lower = Better (e.g., <30 = fluent, >100 = confused model)                            |\n"
   ]
  },
  {
   "cell_type": "markdown",
   "id": "a013479b",
   "metadata": {},
   "source": [
    "What Does 42.04 Mean?\n",
    "GPT-2 thinks this sentence is somewhat unnatural or less expected.\n",
    "\n",
    "A perplexity score of 42 is not terrible, but not fluent-level either.\n",
    "\n",
    "Ideally, for fluent, natural English:\n",
    "\n",
    "Good = 10–30\n",
    "\n",
    "Acceptable = 30–50\n",
    "\n",
    "Bad = > 100 (very low confidence)"
   ]
  },
  {
   "cell_type": "code",
   "execution_count": null,
   "id": "325cee48",
   "metadata": {},
   "outputs": [],
   "source": [
    "import evaluate\n",
    "from evaluate.visualization import radar_plot\n",
    "\n",
    "data = [\n",
    "    {\"accuracy\": 0.9, \"precision\": 0.8, \"f1\": 0.85},\n",
    "    {\"accuracy\": 0.85, \"precision\": 0.75, \"f1\": 0.8}\n",
    "]\n",
    "model_names = [\"Model A\", \"Model B\"]\n",
    "plot = radar_plot(data=data, model_names=model_names)\n",
    "plot.show()"
   ]
  },
  {
   "cell_type": "code",
   "execution_count": null,
   "id": "3b0a1204",
   "metadata": {},
   "outputs": [],
   "source": []
  },
  {
   "cell_type": "code",
   "execution_count": null,
   "id": "1e30d7ee",
   "metadata": {},
   "outputs": [],
   "source": []
  }
 ],
 "metadata": {
  "kernelspec": {
   "display_name": "finetune_env",
   "language": "python",
   "name": "python3"
  },
  "language_info": {
   "codemirror_mode": {
    "name": "ipython",
    "version": 3
   },
   "file_extension": ".py",
   "mimetype": "text/x-python",
   "name": "python",
   "nbconvert_exporter": "python",
   "pygments_lexer": "ipython3",
   "version": "3.10.18"
  }
 },
 "nbformat": 4,
 "nbformat_minor": 5
}
