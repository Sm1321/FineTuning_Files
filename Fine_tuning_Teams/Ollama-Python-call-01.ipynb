{
 "cells": [
  {
   "cell_type": "markdown",
   "metadata": {},
   "source": [
    "Ref: https://github.com/ollama/ollama-python"
   ]
  },
  {
   "cell_type": "code",
   "execution_count": 2,
   "metadata": {},
   "outputs": [],
   "source": [
    "from ollama import chat\n",
    "from ollama import ChatResponse"
   ]
  },
  {
   "cell_type": "code",
   "execution_count": 3,
   "metadata": {},
   "outputs": [
    {
     "name": "stdout",
     "output_type": "stream",
     "text": [
      "The sky appears blue because of a phenomenon called scattering, which occurs when sunlight interacts with tiny molecules of gases in the Earth's atmosphere.\n",
      "\n",
      "Here's what happens:\n",
      "\n",
      "1. Sunlight enters Earth's atmosphere and is made up of a spectrum of colors, including red, orange, yellow, green, blue, indigo, and violet.\n",
      "2. When sunlight encounters the tiny molecules of gases like nitrogen (N2) and oxygen (O2), it scatters in all directions.\n",
      "3. The shorter, blue wavelengths are scattered more than the longer, red wavelengths. This is known as Rayleigh scattering, named after the British physicist Lord Rayleigh, who first described the phenomenon in the late 19th century.\n",
      "4. As a result of this scattering, the blue light is dispersed throughout the atmosphere, giving the sky its blue color.\n",
      "5. The amount of blue light scattered depends on the angle of incidence and the wavelength of the light. This is why the sky often appears more blue during the daytime when the sun is overhead.\n",
      "\n",
      "Other factors can also affect the color of the sky:\n",
      "\n",
      "* Atmospheric conditions: Dust, pollution, and water vapor in the air can scatter light and change its appearance.\n",
      "* Time of day: The angle of the sun affects the amount of scattered light and the resulting color of the sky. During sunrise and sunset, the sky often takes on hues of red, orange, and pink due to scattering by atmospheric particles.\n",
      "* Altitude: At higher altitudes, the atmosphere is thinner, and less light is scattered, resulting in a more intense blue sky.\n",
      "\n",
      "So, there you have it! The blue color of the sky is a fascinating result of the way sunlight interacts with our atmosphere.\n",
      "The sky appears blue because of a phenomenon called scattering, which occurs when sunlight interacts with tiny molecules of gases in the Earth's atmosphere.\n",
      "\n",
      "Here's what happens:\n",
      "\n",
      "1. Sunlight enters Earth's atmosphere and is made up of a spectrum of colors, including red, orange, yellow, green, blue, indigo, and violet.\n",
      "2. When sunlight encounters the tiny molecules of gases like nitrogen (N2) and oxygen (O2), it scatters in all directions.\n",
      "3. The shorter, blue wavelengths are scattered more than the longer, red wavelengths. This is known as Rayleigh scattering, named after the British physicist Lord Rayleigh, who first described the phenomenon in the late 19th century.\n",
      "4. As a result of this scattering, the blue light is dispersed throughout the atmosphere, giving the sky its blue color.\n",
      "5. The amount of blue light scattered depends on the angle of incidence and the wavelength of the light. This is why the sky often appears more blue during the daytime when the sun is overhead.\n",
      "\n",
      "Other factors can also affect the color of the sky:\n",
      "\n",
      "* Atmospheric conditions: Dust, pollution, and water vapor in the air can scatter light and change its appearance.\n",
      "* Time of day: The angle of the sun affects the amount of scattered light and the resulting color of the sky. During sunrise and sunset, the sky often takes on hues of red, orange, and pink due to scattering by atmospheric particles.\n",
      "* Altitude: At higher altitudes, the atmosphere is thinner, and less light is scattered, resulting in a more intense blue sky.\n",
      "\n",
      "So, there you have it! The blue color of the sky is a fascinating result of the way sunlight interacts with our atmosphere.\n"
     ]
    }
   ],
   "source": [
    "response: ChatResponse = chat(model='llama3.2', messages=[\n",
    "  {\n",
    "    'role': 'user',\n",
    "    'content': 'Why is the sky blue?',\n",
    "  },\n",
    "])\n",
    "print(response['message']['content'])\n",
    "# or access fields directly from the response object\n",
    "print(response.message.content)"
   ]
  },
  {
   "cell_type": "code",
   "execution_count": 6,
   "metadata": {},
   "outputs": [
    {
     "name": "stdout",
     "output_type": "stream",
     "text": [
      "The sky appears blue because of a phenomenon called Rayleigh scattering, named after the British physicist Lord Rayleigh. This effect occurs when sunlight interacts with tiny molecules of gases in the Earth's atmosphere.\n",
      "\n",
      "Here's what happens:\n",
      "\n",
      "1. Sunlight enters the Earth's atmosphere and is made up of different colors (a spectrum of light).\n",
      "2. The shorter (blue) wavelengths are scattered more than the longer (red) wavelengths by the tiny molecules of gases, such as nitrogen (N2) and oxygen (O2).\n",
      "3. This scattering effect occurs because the smaller blue wavelengths are more easily deflected by the smaller molecules.\n",
      "4. As a result, the blue light is dispersed throughout the atmosphere in all directions, giving the sky its blue appearance.\n",
      "\n",
      "The reason we don't see green or violet light as much is that these longer wavelengths are not scattered as much by the tiny molecules. The human eye perceives the blue color because it has more of the shorter wavelengths being scattered and reaching our eyes from all parts of the sky.\n",
      "\n",
      "It's worth noting that the color of the sky can change under different conditions:\n",
      "\n",
      "* During sunrise and sunset, the sky appears redder due to scattering effects by atmospheric particles and water droplets.\n",
      "* At high altitudes or in areas with less atmospheric gas, the sky may appear more pale blue or even grayish.\n",
      "* In polluted areas, the sky may take on a hazy or brownish appearance due to particulate matter.\n",
      "\n",
      "In summary, the sky appears blue because of Rayleigh scattering, where sunlight interacts with tiny molecules in the atmosphere, scattering shorter (blue) wavelengths and giving us that iconic blue color!"
     ]
    }
   ],
   "source": [
    "# from ollama import chat\n",
    "\n",
    "stream = chat(\n",
    "    model='llama3.2',\n",
    "    messages=[{'role': 'user', 'content': 'Why is the sky blue?'}],\n",
    "    stream=True,\n",
    ")\n",
    "\n",
    "for chunk in stream:\n",
    "  print(chunk['message']['content'], end='', flush=True)"
   ]
  },
  {
   "cell_type": "code",
   "execution_count": 5,
   "metadata": {},
   "outputs": [],
   "source": [
    "from ollama import Client\n",
    "client = Client(\n",
    "  host='http://localhost:11434',\n",
    "  headers={'x-some-header': 'some-value'}\n",
    ")\n",
    "response = client.chat(model='llama3.2', messages=[\n",
    "  {\n",
    "    'role': 'user',\n",
    "    'content': 'Why is the sky blue?',\n",
    "  },\n",
    "])"
   ]
  },
  {
   "cell_type": "code",
   "execution_count": null,
   "metadata": {},
   "outputs": [],
   "source": []
  }
 ],
 "metadata": {
  "kernelspec": {
   "display_name": "llm2",
   "language": "python",
   "name": "python3"
  },
  "language_info": {
   "codemirror_mode": {
    "name": "ipython",
    "version": 3
   },
   "file_extension": ".py",
   "mimetype": "text/x-python",
   "name": "python",
   "nbconvert_exporter": "python",
   "pygments_lexer": "ipython3",
   "version": "3.11.9"
  }
 },
 "nbformat": 4,
 "nbformat_minor": 2
}
